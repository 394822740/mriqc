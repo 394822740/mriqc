{
 "cells": [
  {
   "cell_type": "code",
   "execution_count": null,
   "metadata": {
    "collapsed": false,
    "scrolled": true
   },
   "outputs": [],
   "source": [
    "%matplotlib inline\n",
    "%load_ext autoreload\n",
    "%autoreload 2\n",
    "import os.path as op\n",
    "import pandas as pd\n",
    "from mriqc.viz.misc import raters_variability_plot, plot_abide_stripplots, plot_corrmat, plot_histograms"
   ]
  },
  {
   "cell_type": "code",
   "execution_count": null,
   "metadata": {
    "collapsed": false
   },
   "outputs": [],
   "source": [
    "data_path = '/home/oesteban/Google Drive/mriqc'\n",
    "x_path = op.join(data_path, 'aMRIQC_abide_20161130.csv')\n",
    "# y_path = op.join(data_path, 'ABIDE_QC_Marie.csv')\n",
    "y_path = op.join(data_path, 'ABIDE_QC_all.csv')"
   ]
  },
  {
   "cell_type": "code",
   "execution_count": null,
   "metadata": {
    "collapsed": false
   },
   "outputs": [],
   "source": [
    "fig = raters_variability_plot(y_path)"
   ]
  },
  {
   "cell_type": "code",
   "execution_count": null,
   "metadata": {
    "collapsed": false
   },
   "outputs": [],
   "source": [
    "fig = plot_abide_stripplots(x_path, y_path)"
   ]
  },
  {
   "cell_type": "code",
   "execution_count": null,
   "metadata": {
    "collapsed": false
   },
   "outputs": [],
   "source": [
    "fig = plot_corrmat(x_path)"
   ]
  },
  {
   "cell_type": "code",
   "execution_count": null,
   "metadata": {
    "collapsed": false
   },
   "outputs": [],
   "source": [
    "fig = plot_histograms(x_path, y_path)"
   ]
  },
  {
   "cell_type": "code",
   "execution_count": 1,
   "metadata": {
    "collapsed": false
   },
   "outputs": [],
   "source": [
    "%matplotlib inline\n",
    "%load_ext autoreload\n",
    "%autoreload 2\n",
    "import os.path as op\n",
    "import pandas as pd\n",
    "import numpy as np\n",
    "data_path = '/home/oesteban/Google Drive/mriqc'\n",
    "loso = pd.read_csv(op.join(data_path, 'cv_loso_wtaskid.csv'), index_col=False, na_values='n/a', na_filter=False)\n",
    "kfold = pd.read_csv(op.join(data_path, 'cv_10fold_wtaskid.csv'), index_col=False, na_values='n/a', na_filter=False)\n",
    "\n",
    "def gen_newparams(dataframe):\n",
    "    thisdf = dataframe.copy()\n",
    "    thisdf['zscored_str'] = ['nzs'] * len(thisdf['zscored'])\n",
    "    thisdf.loc[thisdf.zscored == 1, 'zscored_str'] = 'zs'\n",
    "    thisdf['params'] = thisdf['clf'] + '-' + thisdf['zscored_str'] + ' ' + thisdf['params']\n",
    "    del thisdf['zscored_str']\n",
    "    return thisdf"
   ]
  },
  {
   "cell_type": "code",
   "execution_count": 2,
   "metadata": {
    "collapsed": false
   },
   "outputs": [],
   "source": [
    "loso = gen_newparams(loso)\n",
    "kfold = gen_newparams(kfold)"
   ]
  },
  {
   "cell_type": "code",
   "execution_count": 3,
   "metadata": {
    "collapsed": false
   },
   "outputs": [],
   "source": [
    "loso_models_list = list(set(loso.params.values.ravel().tolist()))\n",
    "kfold_models_list = list(set(kfold.params.values.ravel().tolist()))"
   ]
  },
  {
   "cell_type": "code",
   "execution_count": 4,
   "metadata": {
    "collapsed": false
   },
   "outputs": [],
   "source": [
    "best_param = {}\n",
    "\n",
    "spstr = ['LoSo', '10-fold']\n",
    "best_models = {}\n",
    "for i, split_cv in enumerate([loso, kfold]):\n",
    "    best_models[spstr[i]] = {}\n",
    "    splitcols = [col for col in split_cv.columns.ravel() if col.startswith('split0')]\n",
    "    for clf in ['svc_linear-nzs', 'svc_rbf-nzs', 'rfc-nzs', 'svc_linear-zs', 'svc_rbf-zs', 'rfc-zs']:\n",
    "        thismodeldf = split_cv.loc[split_cv.params.str.contains(clf)]\n",
    "        max_auc = thismodeldf.mean_auc.max()\n",
    "        best = thismodeldf.loc[thismodeldf.mean_auc >= max_auc]\n",
    "        best_list = best.params.values.ravel().tolist()\n",
    "        \n",
    "        if len(best_list) == 1:\n",
    "            best_models[spstr[i]][clf] = best_list[0]\n",
    "        else:\n",
    "            overall_means = [thismodeldf.loc[thismodeldf.params.str.contains(pset), 'mean_auc'].mean()\n",
    "                             for pset in best_list]\n",
    "            overall_max = np.max(overall_means)\n",
    "            if sum([val >= overall_max for val in overall_means]) == 1:\n",
    "                best_models[spstr[i]][clf] = best_list[np.argmax(overall_means)]\n",
    "            else:\n",
    "                best_models[spstr[i]][clf] = best_list[0]    "
   ]
  },
  {
   "cell_type": "code",
   "execution_count": 5,
   "metadata": {
    "collapsed": false
   },
   "outputs": [],
   "source": [
    "newdict = {'AUC': [], 'Classifier': [], 'Split scheme': []}\n",
    "\n",
    "modelnames = {'rfc-nzs': 'RFC-nzs', 'rfc-zs': 'RFC-zs',\n",
    "              'svc_linear-nzs': 'SVC_lin-nzs', 'svc_linear-zs': 'SVC_lin-zs',\n",
    "              'svc_rbf-nzs': 'SVC_rbf-nzs', 'svc_rbf-zs': 'SVC_rbf-zs'}\n",
    "\n",
    "for key, val in list(best_models['LoSo'].items()):\n",
    "    scores = loso.loc[loso.params.str.contains(val), 'mean_auc'].values.ravel().tolist()\n",
    "    nscores = len(scores)\n",
    "   \n",
    "    newdict['AUC'] += scores\n",
    "    newdict['Classifier'] += [modelnames[key]] * nscores\n",
    "    newdict['Split scheme'] += ['LoSo (16 folds)'] * nscores\n",
    "    \n",
    "for key, val in list(best_models['10-fold'].items()):\n",
    "    scores = kfold.loc[kfold.params.str.contains(val), 'mean_auc'].values.ravel().tolist()\n",
    "    nscores = len(scores)\n",
    "   \n",
    "    newdict['AUC'] += scores\n",
    "    newdict['Classifier'] += [modelnames[key]] * nscores\n",
    "    newdict['Split scheme'] += ['10-fold'] * nscores\n",
    "\n",
    "newdf = pd.DataFrame(newdict).sort_values(by=['Split scheme', 'Classifier'])"
   ]
  },
  {
   "cell_type": "code",
   "execution_count": 9,
   "metadata": {
    "collapsed": false
   },
   "outputs": [
    {
     "data": {
      "text/plain": [
       "<matplotlib.text.Text at 0x7f3466c24490>"
      ]
     },
     "execution_count": 9,
     "metadata": {},
     "output_type": "execute_result"
    },
    {
     "data": {
      "image/png": "[encoded data removed]",
      "text/plain": [
       "<matplotlib.figure.Figure at 0x7f3466cbe750>"
      ]
     },
     "metadata": {},
     "output_type": "display_data"
    }
   ],
   "source": [
    "import seaborn as sn\n",
    "sn.set(style=\"whitegrid\")\n",
    "\n",
    "ax = sn.violinplot(x='Classifier', y='AUC', hue='Split scheme', data=newdf, split=True, palette=['dodgerblue', 'darkorange'])\n",
    "\n",
    "ax.set_ylim([0.70, 1.0])\n",
    "ax.set_ylabel('AUC')\n",
    "ax.set_xlabel('Model')\n",
    "ax.set_title('Model performances in the inner loop of the repeated-nested cross-validation')"
   ]
  },
  {
   "cell_type": "code",
   "execution_count": null,
   "metadata": {
    "collapsed": true
   },
   "outputs": [],
   "source": []
  },
  {
   "cell_type": "code",
   "execution_count": null,
   "metadata": {
    "collapsed": true
   },
   "outputs": [],
   "source": []
  }
 ],
 "metadata": {
  "kernelspec": {
   "display_name": "Python 2",
   "language": "python",
   "name": "python2"
  },
  "language_info": {
   "codemirror_mode": {
    "name": "ipython",
    "version": 2
   },
   "file_extension": ".py",
   "mimetype": "text/x-python",
   "name": "python",
   "nbconvert_exporter": "python",
   "pygments_lexer": "ipython2",
   "version": "2.7.11"
  }
 },
 "nbformat": 4,
 "nbformat_minor": 0
}
