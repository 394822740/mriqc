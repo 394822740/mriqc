{
 "cells": [
  {
   "cell_type": "code",
   "execution_count": 28,
   "metadata": {
    "collapsed": false
   },
   "outputs": [
    {
     "name": "stdout",
     "output_type": "stream",
     "text": [
      "The autoreload extension is already loaded. To reload it, use:\n",
      "  %reload_ext autoreload\n"
     ]
    }
   ],
   "source": [
    "%matplotlib inline\n",
    "%load_ext autoreload\n",
    "%autoreload 2\n",
    "from os import path as op\n",
    "import nibabel as nb\n",
    "import numpy as np\n",
    "from scipy.stats import zscore\n",
    "from mriqc.interfaces.functional import auto_mask, find_spikes\n",
    "from mriqc.interfaces.functional import Spikes\n",
    "import matplotlib.pyplot as plt\n",
    "from mriqc.interfaces.viz_utils import plot_mosaic"
   ]
  },
  {
   "cell_type": "code",
   "execution_count": 38,
   "metadata": {
    "collapsed": false
   },
   "outputs": [],
   "source": [
    "sub_id = '51205'\n",
    "func_name = op.abspath('./example_artifacts_dataset/sub-ben01/func/sub-ben01_task-unknown_bold.nii.gz')\n",
    "#func_name = op.abspath('./example_artifacts_dataset/sub-arielle01/func/sub-arielle01_task-unknown_bold.nii.gz')\n",
    "#func_name = op.abspath('./example_artifacts_dataset/sub-ds001s07/func/sub-ds001s07_task-balloonanalogrisktask_run-03_bold.nii.gz')\n",
    "#func_name = op.abspath('./example_artifacts_dataset/sub-steph02/func/sub-steph02_task-unknown_bold.nii.gz')\n",
    "\n",
    "mask_name = op.abspath('./data/sub-ben01_task-unknown_bold_mask.nii.gz')\n",
    "#func_name = './example_artifacts_dataset/sub-{0}/func/sub-{0}_task-rest_bold.nii.gz'.format(sub_id)\n",
    "#mask_name = op.abspath('./data/sub-{}_task-rest_bold_mcf_mask.nii.gz'.format(sub_id))\n",
    "ntsteps = nb.load(func_name).get_data().shape[-1]"
   ]
  },
  {
   "cell_type": "code",
   "execution_count": 34,
   "metadata": {
    "collapsed": false
   },
   "outputs": [
    {
     "name": "stderr",
     "output_type": "stream",
     "text": [
      "/home/oesteban/workspace/mriqc/mriqc/workflows/utils.py:145: VisibleDeprecationWarning: using a non-integer number instead of an integer will result in an error in the future\n",
      "  ftmask[size[0]/2, size[1]/2] = 0\n"
     ]
    },
    {
     "data": {
      "text/plain": [
       "<matplotlib.image.AxesImage at 0x7fd8faa91490>"
      ]
     },
     "execution_count": 34,
     "metadata": {},
     "output_type": "execute_result"
    },
    {
     "data": {
      "image/png": "[encoded data removed]",
      "text/plain": [
       "<matplotlib.figure.Figure at 0x7fd8faab9e90>"
      ]
     },
     "metadata": {},
     "output_type": "display_data"
    }
   ],
   "source": [
    "from mriqc.workflows.utils import spectrum_mask\n",
    "dshape = nb.load(func_name).get_data().shape\n",
    "ftmask = spectrum_mask((dshape[0], dshape[1]))\n",
    "plt.imshow(ftmask)"
   ]
  },
  {
   "cell_type": "code",
   "execution_count": 37,
   "metadata": {
    "collapsed": false
   },
   "outputs": [],
   "source": [
    "from mriqc.workflows.utils import slice_wise_fft\n",
    "\n",
    "fft_nii, energy_file, spikes_file = slice_wise_fft(func_name, ftmask, spike_thres=4)"
   ]
  },
  {
   "cell_type": "code",
   "execution_count": 40,
   "metadata": {
    "collapsed": false
   },
   "outputs": [
    {
     "ename": "TypeError",
     "evalue": "__init__() takes at least 3 arguments (2 given)",
     "output_type": "error",
     "traceback": [
      "\u001b[0;31m---------------------------------------------------------------------------\u001b[0m",
      "\u001b[0;31mTypeError\u001b[0m                                 Traceback (most recent call last)",
      "\u001b[0;32m<ipython-input-40-e9926d1808b0>\u001b[0m in \u001b[0;36m<module>\u001b[0;34m()\u001b[0m\n\u001b[1;32m      1\u001b[0m \u001b[0;32mfrom\u001b[0m \u001b[0mmriqc\u001b[0m\u001b[0;34m.\u001b[0m\u001b[0mviz\u001b[0m\u001b[0;34m.\u001b[0m\u001b[0mfmriplots\u001b[0m \u001b[0;32mimport\u001b[0m \u001b[0mfMRIPlot\u001b[0m\u001b[0;34m\u001b[0m\u001b[0m\n\u001b[0;32m----> 2\u001b[0;31m \u001b[0mmyplot\u001b[0m \u001b[0;34m=\u001b[0m \u001b[0mfMRIPlot\u001b[0m\u001b[0;34m(\u001b[0m\u001b[0mfunc_name\u001b[0m\u001b[0;34m)\u001b[0m\u001b[0;34m\u001b[0m\u001b[0m\n\u001b[0m\u001b[1;32m      3\u001b[0m \u001b[0mmyplot\u001b[0m\u001b[0;34m.\u001b[0m\u001b[0madd_spikes\u001b[0m\u001b[0;34m(\u001b[0m\u001b[0mnp\u001b[0m\u001b[0;34m.\u001b[0m\u001b[0mloadtxt\u001b[0m\u001b[0;34m(\u001b[0m\u001b[0mspikes_file\u001b[0m\u001b[0;34m)\u001b[0m\u001b[0;34m,\u001b[0m \u001b[0;34m'Spikes (brainmask)'\u001b[0m\u001b[0;34m)\u001b[0m\u001b[0;34m\u001b[0m\u001b[0m\n\u001b[1;32m      4\u001b[0m \u001b[0;31m#myplot.add_spikes(res2.outputs.out_tsz, 'Spikes (chrismask)')\u001b[0m\u001b[0;34m\u001b[0m\u001b[0;34m\u001b[0m\u001b[0m\n\u001b[1;32m      5\u001b[0m \u001b[0mmyplot\u001b[0m\u001b[0;34m.\u001b[0m\u001b[0madd_confounds\u001b[0m\u001b[0;34m(\u001b[0m\u001b[0mnp\u001b[0m\u001b[0;34m.\u001b[0m\u001b[0mrandom\u001b[0m\u001b[0;34m.\u001b[0m\u001b[0mnormal\u001b[0m\u001b[0;34m(\u001b[0m\u001b[0msize\u001b[0m\u001b[0;34m=\u001b[0m\u001b[0;34m(\u001b[0m\u001b[0mntsteps\u001b[0m\u001b[0;34m,\u001b[0m\u001b[0;34m)\u001b[0m\u001b[0;34m)\u001b[0m\u001b[0;34m,\u001b[0m \u001b[0;34m'FD'\u001b[0m\u001b[0;34m)\u001b[0m\u001b[0;34m\u001b[0m\u001b[0m\n",
      "\u001b[0;31mTypeError\u001b[0m: __init__() takes at least 3 arguments (2 given)"
     ]
    }
   ],
   "source": [
    "from mriqc.viz.fmriplots import fMRIPlot\n",
    "myplot = fMRIPlot(func_name)\n",
    "myplot.add_spikes(np.loadtxt(spikes_file), 'Spikes (brainmask)')\n",
    "#myplot.add_spikes(res2.outputs.out_tsz, 'Spikes (chrismask)')\n",
    "myplot.add_confounds(np.random.normal(size=(ntsteps,)), 'FD')\n",
    "myplot.plot()"
   ]
  },
  {
   "cell_type": "code",
   "execution_count": 36,
   "metadata": {
    "collapsed": false
   },
   "outputs": [
    {
     "ename": "NameError",
     "evalue": "name 'mask_name' is not defined",
     "output_type": "error",
     "traceback": [
      "\u001b[0;31m---------------------------------------------------------------------------\u001b[0m",
      "\u001b[0;31mNameError\u001b[0m                                 Traceback (most recent call last)",
      "\u001b[0;32m<ipython-input-36-62ec1bdc7ad8>\u001b[0m in \u001b[0;36m<module>\u001b[0;34m()\u001b[0m\n\u001b[0;32m----> 1\u001b[0;31m \u001b[0msp_if\u001b[0m \u001b[0;34m=\u001b[0m \u001b[0mSpikes\u001b[0m\u001b[0;34m(\u001b[0m\u001b[0min_file\u001b[0m\u001b[0;34m=\u001b[0m\u001b[0mfunc_name\u001b[0m\u001b[0;34m,\u001b[0m \u001b[0min_mask\u001b[0m\u001b[0;34m=\u001b[0m\u001b[0mmask_name\u001b[0m\u001b[0;34m,\u001b[0m \u001b[0mout_tsz\u001b[0m\u001b[0;34m=\u001b[0m\u001b[0;34m'brain.txt'\u001b[0m\u001b[0;34m)\u001b[0m\u001b[0;34m\u001b[0m\u001b[0m\n\u001b[0m\u001b[1;32m      2\u001b[0m \u001b[0mres\u001b[0m \u001b[0;34m=\u001b[0m \u001b[0msp_if\u001b[0m\u001b[0;34m.\u001b[0m\u001b[0mrun\u001b[0m\u001b[0;34m(\u001b[0m\u001b[0;34m)\u001b[0m\u001b[0;34m\u001b[0m\u001b[0m\n\u001b[1;32m      3\u001b[0m \u001b[0;34m\u001b[0m\u001b[0m\n\u001b[1;32m      4\u001b[0m \u001b[0msp_if2\u001b[0m \u001b[0;34m=\u001b[0m \u001b[0mSpikes\u001b[0m\u001b[0;34m(\u001b[0m\u001b[0min_file\u001b[0m\u001b[0;34m=\u001b[0m\u001b[0mfunc_name\u001b[0m\u001b[0;34m,\u001b[0m \u001b[0mautomask\u001b[0m\u001b[0;34m=\u001b[0m\u001b[0;34m'chris'\u001b[0m\u001b[0;34m,\u001b[0m \u001b[0mout_tsz\u001b[0m\u001b[0;34m=\u001b[0m\u001b[0;34m'chris.txt'\u001b[0m\u001b[0;34m,\u001b[0m \u001b[0mno_zscore\u001b[0m\u001b[0;34m=\u001b[0m\u001b[0mFalse\u001b[0m\u001b[0;34m)\u001b[0m\u001b[0;34m\u001b[0m\u001b[0m\n\u001b[1;32m      5\u001b[0m \u001b[0mres2\u001b[0m \u001b[0;34m=\u001b[0m \u001b[0msp_if2\u001b[0m\u001b[0;34m.\u001b[0m\u001b[0mrun\u001b[0m\u001b[0;34m(\u001b[0m\u001b[0;34m)\u001b[0m\u001b[0;34m\u001b[0m\u001b[0m\n",
      "\u001b[0;31mNameError\u001b[0m: name 'mask_name' is not defined"
     ]
    }
   ],
   "source": [
    "sp_if = Spikes(in_file=func_name, in_mask=mask_name, out_tsz='brain.txt')\n",
    "res = sp_if.run()\n",
    "\n",
    "sp_if2 = Spikes(in_file=func_name, automask='chris', out_tsz='chris.txt', no_zscore=False)\n",
    "res2 = sp_if2.run()"
   ]
  },
  {
   "cell_type": "code",
   "execution_count": null,
   "metadata": {
    "collapsed": true
   },
   "outputs": [],
   "source": []
  },
  {
   "cell_type": "code",
   "execution_count": null,
   "metadata": {
    "collapsed": true
   },
   "outputs": [],
   "source": []
  }
 ],
 "metadata": {
  "kernelspec": {
   "display_name": "Python 2",
   "language": "python",
   "name": "python2"
  },
  "language_info": {
   "codemirror_mode": {
    "name": "ipython",
    "version": 2
   },
   "file_extension": ".py",
   "mimetype": "text/x-python",
   "name": "python",
   "nbconvert_exporter": "python",
   "pygments_lexer": "ipython2",
   "version": "2.7.11"
  }
 },
 "nbformat": 4,
 "nbformat_minor": 0
}
