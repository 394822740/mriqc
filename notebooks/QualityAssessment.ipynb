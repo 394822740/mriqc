{
 "cells": [
  {
   "cell_type": "code",
   "execution_count": 1,
   "metadata": {
    "collapsed": false
   },
   "outputs": [
    {
     "name": "stderr",
     "output_type": "stream",
     "text": [
      "/home/oesteban/miniconda2/envs/nipypedev-2.7/lib/python2.7/site-packages/matplotlib/__init__.py:1350: UserWarning:  This call to matplotlib.use() has no effect\n",
      "because the backend has already been chosen;\n",
      "matplotlib.use() must be called *before* pylab, matplotlib.pyplot,\n",
      "or matplotlib.backends is imported for the first time.\n",
      "\n",
      "  warnings.warn(_use_error_msg)\n"
     ]
    }
   ],
   "source": [
    "%matplotlib inline\n",
    "%load_ext autoreload\n",
    "%autoreload 2\n",
    "from os import path as op\n",
    "import nibabel as nb\n",
    "import numpy as np\n",
    "from scipy.stats import zscore\n",
    "from mriqc.interfaces.functional import auto_mask, find_spikes\n",
    "from mriqc.interfaces.functional import Spikes\n",
    "import matplotlib.pyplot as plt\n",
    "from mriqc.interfaces.viz_utils import plot_mosaic"
   ]
  },
  {
   "cell_type": "code",
   "execution_count": 3,
   "metadata": {
    "collapsed": false
   },
   "outputs": [],
   "source": [
    "bids_dir = op.expanduser('~/Data/example_artifacts_dataset')\n",
    "sub_id = '51205'\n",
    "func_name = op.join(bids_dir, 'sub-ben01/func/sub-ben01_task-unknown_bold.nii.gz')\n",
    "#func_name = op.abspath('./example_artifacts_dataset/sub-arielle01/func/sub-arielle01_task-unknown_bold.nii.gz')\n",
    "#func_name = op.abspath('./example_artifacts_dataset/sub-ds001s07/func/sub-ds001s07_task-balloonanalogrisktask_run-03_bold.nii.gz')\n",
    "#func_name = op.abspath('./example_artifacts_dataset/sub-steph02/func/sub-steph02_task-unknown_bold.nii.gz')\n",
    "\n",
    "# mask_name = op.join('./data/sub-ben01_task-unknown_bold_mask.nii.gz')\n",
    "#func_name = './example_artifacts_dataset/sub-{0}/func/sub-{0}_task-rest_bold.nii.gz'.format(sub_id)\n",
    "#mask_name = op.abspath('./data/sub-{}_task-rest_bold_mcf_mask.nii.gz'.format(sub_id))\n",
    "ntsteps = nb.load(func_name).get_data().shape[-1]"
   ]
  },
  {
   "cell_type": "code",
   "execution_count": 4,
   "metadata": {
    "collapsed": false
   },
   "outputs": [
    {
     "name": "stderr",
     "output_type": "stream",
     "text": [
      "/home/oesteban/workspace/mriqc/mriqc/workflows/utils.py:145: VisibleDeprecationWarning: using a non-integer number instead of an integer will result in an error in the future\n",
      "  ftmask[size[0]/2, size[1]/2] = 0\n"
     ]
    },
    {
     "data": {
      "text/plain": [
       "<matplotlib.image.AxesImage at 0x7f288e4b2a50>"
      ]
     },
     "execution_count": 4,
     "metadata": {},
     "output_type": "execute_result"
    },
    {
     "data": {
      "image/png": "[encoded data removed]",
      "text/plain": [
       "<matplotlib.figure.Figure at 0x7f288e4de450>"
      ]
     },
     "metadata": {},
     "output_type": "display_data"
    }
   ],
   "source": [
    "from mriqc.workflows.utils import spectrum_mask\n",
    "dshape = nb.load(func_name).get_data().shape\n",
    "ftmask = spectrum_mask((dshape[0], dshape[1]))\n",
    "plt.imshow(ftmask)"
   ]
  },
  {
   "cell_type": "code",
   "execution_count": 46,
   "metadata": {
    "collapsed": false
   },
   "outputs": [],
   "source": [
    "from mriqc.workflows.utils import slice_wise_fft\n",
    "\n",
    "fft_fname, spikes_file = slice_wise_fft(func_name, ftmask, spike_thres=10)"
   ]
  },
  {
   "cell_type": "code",
   "execution_count": 50,
   "metadata": {
    "collapsed": false
   },
   "outputs": [
    {
     "name": "stdout",
     "output_type": "stream",
     "text": [
      "set([(18.0, 0.0), (9.0, 15.0), (27.0, 18.0), (18.0, 7.0), (12.0, 31.0), (12.0, 2.0), (31.0, 0.0), (22.0, 0.0)])\n"
     ]
    }
   ],
   "source": [
    "new = np.loadtxt(spikes_file)\n",
    "\n",
    "print set([tuple(n) for n in new]) - set([tuple(o) for o in old])"
   ]
  },
  {
   "cell_type": "code",
   "execution_count": 40,
   "metadata": {
    "collapsed": false
   },
   "outputs": [
    {
     "name": "stdout",
     "output_type": "stream",
     "text": [
      "(128, 128, 33, 33)\n"
     ]
    }
   ],
   "source": [
    "from statsmodels.robust.scale import mad\n",
    "fft_nii = nb.load(fft_fname)\n",
    "fft_data = fft_nii.get_data()\n",
    "mu = np.median(fft_data, axis=3)\n",
    "sigma = np.stack([mad(fft_data, axis=3)] * fft_data.shape[-1], -1)\n",
    "\n",
    "idxs = np.where(np.abs(sigma) > 1e-4)\n",
    "fft_zscored = fft_data - mu[..., np.newaxis]\n",
    "fft_zscored[idxs] /= sigma[idxs]\n",
    "nb.Nifti1Image(fft_zscored, fft_nii.get_affine(), fft_nii.get_header()).to_filename('fft_zscored.nii.gz')"
   ]
  },
  {
   "cell_type": "code",
   "execution_count": 8,
   "metadata": {
    "collapsed": false
   },
   "outputs": [
    {
     "name": "stderr",
     "output_type": "stream",
     "text": [
      "/home/oesteban/miniconda2/envs/nipypedev-2.7/lib/python2.7/site-packages/nibabel-2.0.2-py2.7.egg/nibabel/orientations.py:223: VisibleDeprecationWarning: non integer (and non boolean) array-likes will not be accepted as indices in the future\n",
      "  undo_reorder = np.eye(p + 1)[list(ornt[:, 0]) + [p], :]\n"
     ]
    },
    {
     "ename": "TypeError",
     "evalue": "Invalid dimensions for image data",
     "output_type": "error",
     "traceback": [
      "\u001b[0;31m---------------------------------------------------------------------------\u001b[0m",
      "\u001b[0;31mTypeError\u001b[0m                                 Traceback (most recent call last)",
      "\u001b[0;32m<ipython-input-8-191529e71c2c>\u001b[0m in \u001b[0;36m<module>\u001b[0;34m()\u001b[0m\n\u001b[1;32m      1\u001b[0m \u001b[0;32mfrom\u001b[0m \u001b[0mmriqc\u001b[0m\u001b[0;34m.\u001b[0m\u001b[0minterfaces\u001b[0m\u001b[0;34m.\u001b[0m\u001b[0mviz_utils\u001b[0m \u001b[0;32mimport\u001b[0m \u001b[0;34m(\u001b[0m\u001b[0mplot_mosaic_helper\u001b[0m\u001b[0;34m,\u001b[0m \u001b[0mplot_fd\u001b[0m\u001b[0;34m,\u001b[0m \u001b[0mplot_segmentation\u001b[0m\u001b[0;34m)\u001b[0m\u001b[0;34m\u001b[0m\u001b[0m\n\u001b[1;32m      2\u001b[0m \u001b[0;34m\u001b[0m\u001b[0m\n\u001b[0;32m----> 3\u001b[0;31m \u001b[0mplot_mosaic_helper\u001b[0m\u001b[0;34m(\u001b[0m\u001b[0mfft_nii\u001b[0m\u001b[0;34m,\u001b[0m \u001b[0;34m'ben01'\u001b[0m\u001b[0;34m,\u001b[0m \u001b[0;34m'0'\u001b[0m\u001b[0;34m,\u001b[0m \u001b[0;34m'0'\u001b[0m\u001b[0;34m,\u001b[0m \u001b[0;34m'plot.svg'\u001b[0m\u001b[0;34m)\u001b[0m\u001b[0;34m\u001b[0m\u001b[0m\n\u001b[0m",
      "\u001b[0;32m/home/oesteban/workspace/mriqc/mriqc/interfaces/viz_utils.py\u001b[0m in \u001b[0;36mplot_mosaic_helper\u001b[0;34m(in_file, subject_id, session_id, run_id, out_name, bbox_mask_file, title, only_plot_noise, cmap)\u001b[0m\n\u001b[1;32m    495\u001b[0m                               \"run_id\": run_id})\n\u001b[1;32m    496\u001b[0m     fig = plot_mosaic(in_file, bbox_mask_file=bbox_mask_file, title=title,\n\u001b[0;32m--> 497\u001b[0;31m                       only_plot_noise=only_plot_noise, cmap=cmap)\n\u001b[0m\u001b[1;32m    498\u001b[0m     \u001b[0mfig\u001b[0m\u001b[0;34m.\u001b[0m\u001b[0msavefig\u001b[0m\u001b[0;34m(\u001b[0m\u001b[0mout_name\u001b[0m\u001b[0;34m,\u001b[0m \u001b[0mformat\u001b[0m\u001b[0;34m=\u001b[0m\u001b[0mout_name\u001b[0m\u001b[0;34m.\u001b[0m\u001b[0msplit\u001b[0m\u001b[0;34m(\u001b[0m\u001b[0;34m'.'\u001b[0m\u001b[0;34m)\u001b[0m\u001b[0;34m[\u001b[0m\u001b[0;34m-\u001b[0m\u001b[0;36m1\u001b[0m\u001b[0;34m]\u001b[0m\u001b[0;34m,\u001b[0m \u001b[0mdpi\u001b[0m\u001b[0;34m=\u001b[0m\u001b[0;36m300\u001b[0m\u001b[0;34m)\u001b[0m\u001b[0;34m\u001b[0m\u001b[0m\n\u001b[1;32m    499\u001b[0m     \u001b[0mfig\u001b[0m\u001b[0;34m.\u001b[0m\u001b[0mclf\u001b[0m\u001b[0;34m(\u001b[0m\u001b[0;34m)\u001b[0m\u001b[0;34m\u001b[0m\u001b[0m\n",
      "\u001b[0;32m/home/oesteban/workspace/mriqc/mriqc/interfaces/viz_utils.py\u001b[0m in \u001b[0;36mplot_mosaic\u001b[0;34m(nifti_file, title, overlay_mask, fig, bbox_mask_file, only_plot_noise, vmin, vmax, figsize, cmap)\u001b[0m\n\u001b[1;32m    261\u001b[0m         ax.imshow(np.fliplr(mean_data[:, :, z_val].T), vmin=vmin,\n\u001b[1;32m    262\u001b[0m                   \u001b[0mvmax\u001b[0m\u001b[0;34m=\u001b[0m\u001b[0mvmax\u001b[0m\u001b[0;34m,\u001b[0m\u001b[0;34m\u001b[0m\u001b[0m\n\u001b[0;32m--> 263\u001b[0;31m                   cmap=cmap, interpolation='nearest', origin='lower')\n\u001b[0m\u001b[1;32m    264\u001b[0m \u001b[0;34m\u001b[0m\u001b[0m\n\u001b[1;32m    265\u001b[0m         \u001b[0;32mif\u001b[0m \u001b[0moverlay_mask\u001b[0m\u001b[0;34m:\u001b[0m\u001b[0;34m\u001b[0m\u001b[0m\n",
      "\u001b[0;32m/home/oesteban/miniconda2/envs/nipypedev-2.7/lib/python2.7/site-packages/matplotlib/__init__.pyc\u001b[0m in \u001b[0;36minner\u001b[0;34m(ax, *args, **kwargs)\u001b[0m\n\u001b[1;32m   1810\u001b[0m                     warnings.warn(msg % (label_namer, func.__name__),\n\u001b[1;32m   1811\u001b[0m                                   RuntimeWarning, stacklevel=2)\n\u001b[0;32m-> 1812\u001b[0;31m             \u001b[0;32mreturn\u001b[0m \u001b[0mfunc\u001b[0m\u001b[0;34m(\u001b[0m\u001b[0max\u001b[0m\u001b[0;34m,\u001b[0m \u001b[0;34m*\u001b[0m\u001b[0margs\u001b[0m\u001b[0;34m,\u001b[0m \u001b[0;34m**\u001b[0m\u001b[0mkwargs\u001b[0m\u001b[0;34m)\u001b[0m\u001b[0;34m\u001b[0m\u001b[0m\n\u001b[0m\u001b[1;32m   1813\u001b[0m         \u001b[0mpre_doc\u001b[0m \u001b[0;34m=\u001b[0m \u001b[0minner\u001b[0m\u001b[0;34m.\u001b[0m\u001b[0m__doc__\u001b[0m\u001b[0;34m\u001b[0m\u001b[0m\n\u001b[1;32m   1814\u001b[0m         \u001b[0;32mif\u001b[0m \u001b[0mpre_doc\u001b[0m \u001b[0;32mis\u001b[0m \u001b[0mNone\u001b[0m\u001b[0;34m:\u001b[0m\u001b[0;34m\u001b[0m\u001b[0m\n",
      "\u001b[0;32m/home/oesteban/miniconda2/envs/nipypedev-2.7/lib/python2.7/site-packages/matplotlib/axes/_axes.pyc\u001b[0m in \u001b[0;36mimshow\u001b[0;34m(self, X, cmap, norm, aspect, interpolation, alpha, vmin, vmax, origin, extent, shape, filternorm, filterrad, imlim, resample, url, **kwargs)\u001b[0m\n\u001b[1;32m   4945\u001b[0m                               resample=resample, **kwargs)\n\u001b[1;32m   4946\u001b[0m \u001b[0;34m\u001b[0m\u001b[0m\n\u001b[0;32m-> 4947\u001b[0;31m         \u001b[0mim\u001b[0m\u001b[0;34m.\u001b[0m\u001b[0mset_data\u001b[0m\u001b[0;34m(\u001b[0m\u001b[0mX\u001b[0m\u001b[0;34m)\u001b[0m\u001b[0;34m\u001b[0m\u001b[0m\n\u001b[0m\u001b[1;32m   4948\u001b[0m         \u001b[0mim\u001b[0m\u001b[0;34m.\u001b[0m\u001b[0mset_alpha\u001b[0m\u001b[0;34m(\u001b[0m\u001b[0malpha\u001b[0m\u001b[0;34m)\u001b[0m\u001b[0;34m\u001b[0m\u001b[0m\n\u001b[1;32m   4949\u001b[0m         \u001b[0;32mif\u001b[0m \u001b[0mim\u001b[0m\u001b[0;34m.\u001b[0m\u001b[0mget_clip_path\u001b[0m\u001b[0;34m(\u001b[0m\u001b[0;34m)\u001b[0m \u001b[0;32mis\u001b[0m \u001b[0mNone\u001b[0m\u001b[0;34m:\u001b[0m\u001b[0;34m\u001b[0m\u001b[0m\n",
      "\u001b[0;32m/home/oesteban/miniconda2/envs/nipypedev-2.7/lib/python2.7/site-packages/matplotlib/image.pyc\u001b[0m in \u001b[0;36mset_data\u001b[0;34m(self, A)\u001b[0m\n\u001b[1;32m    451\u001b[0m         if (self._A.ndim not in (2, 3) or\n\u001b[1;32m    452\u001b[0m                 (self._A.ndim == 3 and self._A.shape[-1] not in (3, 4))):\n\u001b[0;32m--> 453\u001b[0;31m             \u001b[0;32mraise\u001b[0m \u001b[0mTypeError\u001b[0m\u001b[0;34m(\u001b[0m\u001b[0;34m\"Invalid dimensions for image data\"\u001b[0m\u001b[0;34m)\u001b[0m\u001b[0;34m\u001b[0m\u001b[0m\n\u001b[0m\u001b[1;32m    454\u001b[0m \u001b[0;34m\u001b[0m\u001b[0m\n\u001b[1;32m    455\u001b[0m         \u001b[0mself\u001b[0m\u001b[0;34m.\u001b[0m\u001b[0m_imcache\u001b[0m \u001b[0;34m=\u001b[0m \u001b[0mNone\u001b[0m\u001b[0;34m\u001b[0m\u001b[0m\n",
      "\u001b[0;31mTypeError\u001b[0m: Invalid dimensions for image data"
     ]
    }
   ],
   "source": [
    "from mriqc.interfaces.viz_utils import (plot_mosaic_helper, plot_fd, plot_segmentation)\n",
    "\n",
    "fft_data = nb.load(fft_nii)\n",
    "fft_data += \n",
    "plot_mosaic_helper(fft_nii, 'ben01', '0', '0', 'plot.svg')"
   ]
  },
  {
   "cell_type": "code",
   "execution_count": 6,
   "metadata": {
    "collapsed": false
   },
   "outputs": [
    {
     "ename": "TypeError",
     "evalue": "__init__() takes at least 3 arguments (2 given)",
     "output_type": "error",
     "traceback": [
      "\u001b[0;31m---------------------------------------------------------------------------\u001b[0m",
      "\u001b[0;31mTypeError\u001b[0m                                 Traceback (most recent call last)",
      "\u001b[0;32m<ipython-input-6-e9926d1808b0>\u001b[0m in \u001b[0;36m<module>\u001b[0;34m()\u001b[0m\n\u001b[1;32m      1\u001b[0m \u001b[0;32mfrom\u001b[0m \u001b[0mmriqc\u001b[0m\u001b[0;34m.\u001b[0m\u001b[0mviz\u001b[0m\u001b[0;34m.\u001b[0m\u001b[0mfmriplots\u001b[0m \u001b[0;32mimport\u001b[0m \u001b[0mfMRIPlot\u001b[0m\u001b[0;34m\u001b[0m\u001b[0m\n\u001b[0;32m----> 2\u001b[0;31m \u001b[0mmyplot\u001b[0m \u001b[0;34m=\u001b[0m \u001b[0mfMRIPlot\u001b[0m\u001b[0;34m(\u001b[0m\u001b[0mfunc_name\u001b[0m\u001b[0;34m)\u001b[0m\u001b[0;34m\u001b[0m\u001b[0m\n\u001b[0m\u001b[1;32m      3\u001b[0m \u001b[0mmyplot\u001b[0m\u001b[0;34m.\u001b[0m\u001b[0madd_spikes\u001b[0m\u001b[0;34m(\u001b[0m\u001b[0mnp\u001b[0m\u001b[0;34m.\u001b[0m\u001b[0mloadtxt\u001b[0m\u001b[0;34m(\u001b[0m\u001b[0mspikes_file\u001b[0m\u001b[0;34m)\u001b[0m\u001b[0;34m,\u001b[0m \u001b[0;34m'Spikes (brainmask)'\u001b[0m\u001b[0;34m)\u001b[0m\u001b[0;34m\u001b[0m\u001b[0m\n\u001b[1;32m      4\u001b[0m \u001b[0;31m#myplot.add_spikes(res2.outputs.out_tsz, 'Spikes (chrismask)')\u001b[0m\u001b[0;34m\u001b[0m\u001b[0;34m\u001b[0m\u001b[0m\n\u001b[1;32m      5\u001b[0m \u001b[0mmyplot\u001b[0m\u001b[0;34m.\u001b[0m\u001b[0madd_confounds\u001b[0m\u001b[0;34m(\u001b[0m\u001b[0mnp\u001b[0m\u001b[0;34m.\u001b[0m\u001b[0mrandom\u001b[0m\u001b[0;34m.\u001b[0m\u001b[0mnormal\u001b[0m\u001b[0;34m(\u001b[0m\u001b[0msize\u001b[0m\u001b[0;34m=\u001b[0m\u001b[0;34m(\u001b[0m\u001b[0mntsteps\u001b[0m\u001b[0;34m,\u001b[0m\u001b[0;34m)\u001b[0m\u001b[0;34m)\u001b[0m\u001b[0;34m,\u001b[0m \u001b[0;34m'FD'\u001b[0m\u001b[0;34m)\u001b[0m\u001b[0;34m\u001b[0m\u001b[0m\n",
      "\u001b[0;31mTypeError\u001b[0m: __init__() takes at least 3 arguments (2 given)"
     ]
    }
   ],
   "source": [
    "from mriqc.viz.fmriplots import fMRIPlot\n",
    "myplot = fMRIPlot(func_name)\n",
    "myplot.add_spikes(np.loadtxt(spikes_file), 'Spikes (brainmask)')\n",
    "#myplot.add_spikes(res2.outputs.out_tsz, 'Spikes (chrismask)')\n",
    "myplot.add_confounds(np.random.normal(size=(ntsteps,)), 'FD')\n",
    "myplot.plot()"
   ]
  },
  {
   "cell_type": "code",
   "execution_count": 36,
   "metadata": {
    "collapsed": false
   },
   "outputs": [
    {
     "ename": "NameError",
     "evalue": "name 'mask_name' is not defined",
     "output_type": "error",
     "traceback": [
      "\u001b[0;31m---------------------------------------------------------------------------\u001b[0m",
      "\u001b[0;31mNameError\u001b[0m                                 Traceback (most recent call last)",
      "\u001b[0;32m<ipython-input-36-62ec1bdc7ad8>\u001b[0m in \u001b[0;36m<module>\u001b[0;34m()\u001b[0m\n\u001b[0;32m----> 1\u001b[0;31m \u001b[0msp_if\u001b[0m \u001b[0;34m=\u001b[0m \u001b[0mSpikes\u001b[0m\u001b[0;34m(\u001b[0m\u001b[0min_file\u001b[0m\u001b[0;34m=\u001b[0m\u001b[0mfunc_name\u001b[0m\u001b[0;34m,\u001b[0m \u001b[0min_mask\u001b[0m\u001b[0;34m=\u001b[0m\u001b[0mmask_name\u001b[0m\u001b[0;34m,\u001b[0m \u001b[0mout_tsz\u001b[0m\u001b[0;34m=\u001b[0m\u001b[0;34m'brain.txt'\u001b[0m\u001b[0;34m)\u001b[0m\u001b[0;34m\u001b[0m\u001b[0m\n\u001b[0m\u001b[1;32m      2\u001b[0m \u001b[0mres\u001b[0m \u001b[0;34m=\u001b[0m \u001b[0msp_if\u001b[0m\u001b[0;34m.\u001b[0m\u001b[0mrun\u001b[0m\u001b[0;34m(\u001b[0m\u001b[0;34m)\u001b[0m\u001b[0;34m\u001b[0m\u001b[0m\n\u001b[1;32m      3\u001b[0m \u001b[0;34m\u001b[0m\u001b[0m\n\u001b[1;32m      4\u001b[0m \u001b[0msp_if2\u001b[0m \u001b[0;34m=\u001b[0m \u001b[0mSpikes\u001b[0m\u001b[0;34m(\u001b[0m\u001b[0min_file\u001b[0m\u001b[0;34m=\u001b[0m\u001b[0mfunc_name\u001b[0m\u001b[0;34m,\u001b[0m \u001b[0mautomask\u001b[0m\u001b[0;34m=\u001b[0m\u001b[0;34m'chris'\u001b[0m\u001b[0;34m,\u001b[0m \u001b[0mout_tsz\u001b[0m\u001b[0;34m=\u001b[0m\u001b[0;34m'chris.txt'\u001b[0m\u001b[0;34m,\u001b[0m \u001b[0mno_zscore\u001b[0m\u001b[0;34m=\u001b[0m\u001b[0mFalse\u001b[0m\u001b[0;34m)\u001b[0m\u001b[0;34m\u001b[0m\u001b[0m\n\u001b[1;32m      5\u001b[0m \u001b[0mres2\u001b[0m \u001b[0;34m=\u001b[0m \u001b[0msp_if2\u001b[0m\u001b[0;34m.\u001b[0m\u001b[0mrun\u001b[0m\u001b[0;34m(\u001b[0m\u001b[0;34m)\u001b[0m\u001b[0;34m\u001b[0m\u001b[0m\n",
      "\u001b[0;31mNameError\u001b[0m: name 'mask_name' is not defined"
     ]
    }
   ],
   "source": [
    "sp_if = Spikes(in_file=func_name, in_mask=mask_name, out_tsz='brain.txt')\n",
    "res = sp_if.run()\n",
    "\n",
    "sp_if2 = Spikes(in_file=func_name, automask='chris', out_tsz='chris.txt', no_zscore=False)\n",
    "res2 = sp_if2.run()"
   ]
  },
  {
   "cell_type": "code",
   "execution_count": null,
   "metadata": {
    "collapsed": true
   },
   "outputs": [],
   "source": []
  },
  {
   "cell_type": "code",
   "execution_count": null,
   "metadata": {
    "collapsed": true
   },
   "outputs": [],
   "source": []
  }
 ],
 "metadata": {
  "kernelspec": {
   "display_name": "Python 2",
   "language": "python",
   "name": "python2"
  },
  "language_info": {
   "codemirror_mode": {
    "name": "ipython",
    "version": 2
   },
   "file_extension": ".py",
   "mimetype": "text/x-python",
   "name": "python",
   "nbconvert_exporter": "python",
   "pygments_lexer": "ipython2",
   "version": "2.7.11"
  }
 },
 "nbformat": 4,
 "nbformat_minor": 0
}
